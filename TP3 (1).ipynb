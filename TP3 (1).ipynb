{
 "cells": [
  {
   "cell_type": "markdown",
   "id": "f9126c44",
   "metadata": {},
   "source": [
    "# Multiple Linear Regression"
   ]
  },
  {
   "cell_type": "markdown",
   "id": "c0934765",
   "metadata": {},
   "source": [
    "## Import Libraries"
   ]
  },
  {
   "cell_type": "code",
   "execution_count": 1,
   "id": "fc1eb0fe",
   "metadata": {},
   "outputs": [],
   "source": [
    "import numpy as np\n",
    "import pandas as pd\n",
    "import matplotlib.pyplot as plt\n",
    "import seaborn as sns"
   ]
  },
  {
   "cell_type": "markdown",
   "id": "28722431",
   "metadata": {},
   "source": [
    "## Import Dataset "
   ]
  },
  {
   "cell_type": "code",
   "execution_count": 2,
   "id": "5fc5935e",
   "metadata": {},
   "outputs": [],
   "source": [
    "dataset = pd.read_csv(\"car_price_prediction.csv\")"
   ]
  },
  {
   "cell_type": "code",
   "execution_count": 3,
   "id": "81d50fdf",
   "metadata": {},
   "outputs": [
    {
     "data": {
      "text/html": [
       "<div>\n",
       "<style scoped>\n",
       "    .dataframe tbody tr th:only-of-type {\n",
       "        vertical-align: middle;\n",
       "    }\n",
       "\n",
       "    .dataframe tbody tr th {\n",
       "        vertical-align: top;\n",
       "    }\n",
       "\n",
       "    .dataframe thead th {\n",
       "        text-align: right;\n",
       "    }\n",
       "</style>\n",
       "<table border=\"1\" class=\"dataframe\">\n",
       "  <thead>\n",
       "    <tr style=\"text-align: right;\">\n",
       "      <th></th>\n",
       "      <th>ID</th>\n",
       "      <th>Price</th>\n",
       "      <th>Levy</th>\n",
       "      <th>Manufacturer</th>\n",
       "      <th>Model</th>\n",
       "      <th>Prod. year</th>\n",
       "      <th>Category</th>\n",
       "      <th>Leather interior</th>\n",
       "      <th>Fuel type</th>\n",
       "      <th>Engine volume</th>\n",
       "      <th>Mileage</th>\n",
       "      <th>Cylinders</th>\n",
       "      <th>Gear box type</th>\n",
       "      <th>Drive wheels</th>\n",
       "      <th>Doors</th>\n",
       "      <th>Wheel</th>\n",
       "      <th>Color</th>\n",
       "      <th>Airbags</th>\n",
       "    </tr>\n",
       "  </thead>\n",
       "  <tbody>\n",
       "    <tr>\n",
       "      <th>0</th>\n",
       "      <td>45654403</td>\n",
       "      <td>13328</td>\n",
       "      <td>1399</td>\n",
       "      <td>LEXUS</td>\n",
       "      <td>RX 450</td>\n",
       "      <td>2010</td>\n",
       "      <td>Jeep</td>\n",
       "      <td>Yes</td>\n",
       "      <td>Hybrid</td>\n",
       "      <td>3.5</td>\n",
       "      <td>186005 km</td>\n",
       "      <td>6.0</td>\n",
       "      <td>Automatic</td>\n",
       "      <td>4x4</td>\n",
       "      <td>04-May</td>\n",
       "      <td>Left wheel</td>\n",
       "      <td>Silver</td>\n",
       "      <td>12</td>\n",
       "    </tr>\n",
       "    <tr>\n",
       "      <th>1</th>\n",
       "      <td>44731507</td>\n",
       "      <td>16621</td>\n",
       "      <td>1018</td>\n",
       "      <td>CHEVROLET</td>\n",
       "      <td>Equinox</td>\n",
       "      <td>2011</td>\n",
       "      <td>Jeep</td>\n",
       "      <td>No</td>\n",
       "      <td>Petrol</td>\n",
       "      <td>3</td>\n",
       "      <td>192000 km</td>\n",
       "      <td>6.0</td>\n",
       "      <td>Tiptronic</td>\n",
       "      <td>4x4</td>\n",
       "      <td>04-May</td>\n",
       "      <td>Left wheel</td>\n",
       "      <td>Black</td>\n",
       "      <td>8</td>\n",
       "    </tr>\n",
       "    <tr>\n",
       "      <th>2</th>\n",
       "      <td>45774419</td>\n",
       "      <td>8467</td>\n",
       "      <td>-</td>\n",
       "      <td>HONDA</td>\n",
       "      <td>FIT</td>\n",
       "      <td>2006</td>\n",
       "      <td>Hatchback</td>\n",
       "      <td>No</td>\n",
       "      <td>Petrol</td>\n",
       "      <td>1.3</td>\n",
       "      <td>200000 km</td>\n",
       "      <td>4.0</td>\n",
       "      <td>Variator</td>\n",
       "      <td>Front</td>\n",
       "      <td>04-May</td>\n",
       "      <td>Right-hand drive</td>\n",
       "      <td>Black</td>\n",
       "      <td>2</td>\n",
       "    </tr>\n",
       "    <tr>\n",
       "      <th>3</th>\n",
       "      <td>45769185</td>\n",
       "      <td>3607</td>\n",
       "      <td>862</td>\n",
       "      <td>FORD</td>\n",
       "      <td>Escape</td>\n",
       "      <td>2011</td>\n",
       "      <td>Jeep</td>\n",
       "      <td>Yes</td>\n",
       "      <td>Hybrid</td>\n",
       "      <td>2.5</td>\n",
       "      <td>168966 km</td>\n",
       "      <td>4.0</td>\n",
       "      <td>Automatic</td>\n",
       "      <td>4x4</td>\n",
       "      <td>04-May</td>\n",
       "      <td>Left wheel</td>\n",
       "      <td>White</td>\n",
       "      <td>0</td>\n",
       "    </tr>\n",
       "    <tr>\n",
       "      <th>4</th>\n",
       "      <td>45809263</td>\n",
       "      <td>11726</td>\n",
       "      <td>446</td>\n",
       "      <td>HONDA</td>\n",
       "      <td>FIT</td>\n",
       "      <td>2014</td>\n",
       "      <td>Hatchback</td>\n",
       "      <td>Yes</td>\n",
       "      <td>Petrol</td>\n",
       "      <td>1.3</td>\n",
       "      <td>91901 km</td>\n",
       "      <td>4.0</td>\n",
       "      <td>Automatic</td>\n",
       "      <td>Front</td>\n",
       "      <td>04-May</td>\n",
       "      <td>Left wheel</td>\n",
       "      <td>Silver</td>\n",
       "      <td>4</td>\n",
       "    </tr>\n",
       "  </tbody>\n",
       "</table>\n",
       "</div>"
      ],
      "text/plain": [
       "         ID  Price  Levy Manufacturer    Model  Prod. year   Category  \\\n",
       "0  45654403  13328  1399        LEXUS   RX 450        2010       Jeep   \n",
       "1  44731507  16621  1018    CHEVROLET  Equinox        2011       Jeep   \n",
       "2  45774419   8467     -        HONDA      FIT        2006  Hatchback   \n",
       "3  45769185   3607   862         FORD   Escape        2011       Jeep   \n",
       "4  45809263  11726   446        HONDA      FIT        2014  Hatchback   \n",
       "\n",
       "  Leather interior Fuel type Engine volume    Mileage  Cylinders  \\\n",
       "0              Yes    Hybrid           3.5  186005 km        6.0   \n",
       "1               No    Petrol             3  192000 km        6.0   \n",
       "2               No    Petrol           1.3  200000 km        4.0   \n",
       "3              Yes    Hybrid           2.5  168966 km        4.0   \n",
       "4              Yes    Petrol           1.3   91901 km        4.0   \n",
       "\n",
       "  Gear box type Drive wheels   Doors             Wheel   Color  Airbags  \n",
       "0     Automatic          4x4  04-May        Left wheel  Silver       12  \n",
       "1     Tiptronic          4x4  04-May        Left wheel   Black        8  \n",
       "2      Variator        Front  04-May  Right-hand drive   Black        2  \n",
       "3     Automatic          4x4  04-May        Left wheel   White        0  \n",
       "4     Automatic        Front  04-May        Left wheel  Silver        4  "
      ]
     },
     "execution_count": 3,
     "metadata": {},
     "output_type": "execute_result"
    }
   ],
   "source": [
    "dataset.head()"
   ]
  },
  {
   "cell_type": "code",
   "execution_count": 4,
   "id": "302a8c80",
   "metadata": {},
   "outputs": [
    {
     "name": "stdout",
     "output_type": "stream",
     "text": [
      "<class 'pandas.core.frame.DataFrame'>\n",
      "RangeIndex: 19237 entries, 0 to 19236\n",
      "Data columns (total 18 columns):\n",
      " #   Column            Non-Null Count  Dtype  \n",
      "---  ------            --------------  -----  \n",
      " 0   ID                19237 non-null  int64  \n",
      " 1   Price             19237 non-null  int64  \n",
      " 2   Levy              19237 non-null  object \n",
      " 3   Manufacturer      19237 non-null  object \n",
      " 4   Model             19237 non-null  object \n",
      " 5   Prod. year        19237 non-null  int64  \n",
      " 6   Category          19237 non-null  object \n",
      " 7   Leather interior  19237 non-null  object \n",
      " 8   Fuel type         19237 non-null  object \n",
      " 9   Engine volume     19237 non-null  object \n",
      " 10  Mileage           19237 non-null  object \n",
      " 11  Cylinders         19237 non-null  float64\n",
      " 12  Gear box type     19237 non-null  object \n",
      " 13  Drive wheels      19237 non-null  object \n",
      " 14  Doors             19237 non-null  object \n",
      " 15  Wheel             19237 non-null  object \n",
      " 16  Color             19237 non-null  object \n",
      " 17  Airbags           19237 non-null  int64  \n",
      "dtypes: float64(1), int64(4), object(13)\n",
      "memory usage: 2.6+ MB\n"
     ]
    }
   ],
   "source": [
    "dataset.info()"
   ]
  },
  {
   "cell_type": "markdown",
   "id": "f0fc5508",
   "metadata": {},
   "source": [
    "## Update the Missing Values"
   ]
  },
  {
   "cell_type": "code",
   "execution_count": 5,
   "id": "b948f40e",
   "metadata": {},
   "outputs": [
    {
     "data": {
      "text/html": [
       "<div>\n",
       "<style scoped>\n",
       "    .dataframe tbody tr th:only-of-type {\n",
       "        vertical-align: middle;\n",
       "    }\n",
       "\n",
       "    .dataframe tbody tr th {\n",
       "        vertical-align: top;\n",
       "    }\n",
       "\n",
       "    .dataframe thead th {\n",
       "        text-align: right;\n",
       "    }\n",
       "</style>\n",
       "<table border=\"1\" class=\"dataframe\">\n",
       "  <thead>\n",
       "    <tr style=\"text-align: right;\">\n",
       "      <th></th>\n",
       "      <th>Price</th>\n",
       "      <th>Manufacturer</th>\n",
       "      <th>Model</th>\n",
       "      <th>Prod. year</th>\n",
       "      <th>Category</th>\n",
       "      <th>Leather interior</th>\n",
       "      <th>Fuel type</th>\n",
       "      <th>Engine volume</th>\n",
       "      <th>Mileage</th>\n",
       "      <th>Cylinders</th>\n",
       "      <th>Gear box type</th>\n",
       "      <th>Drive wheels</th>\n",
       "      <th>Doors</th>\n",
       "      <th>Wheel</th>\n",
       "      <th>Color</th>\n",
       "      <th>Airbags</th>\n",
       "    </tr>\n",
       "  </thead>\n",
       "  <tbody>\n",
       "    <tr>\n",
       "      <th>0</th>\n",
       "      <td>13328</td>\n",
       "      <td>LEXUS</td>\n",
       "      <td>RX 450</td>\n",
       "      <td>2010</td>\n",
       "      <td>Jeep</td>\n",
       "      <td>Yes</td>\n",
       "      <td>Hybrid</td>\n",
       "      <td>3.5</td>\n",
       "      <td>186005 km</td>\n",
       "      <td>6.0</td>\n",
       "      <td>Automatic</td>\n",
       "      <td>4x4</td>\n",
       "      <td>04-May</td>\n",
       "      <td>Left wheel</td>\n",
       "      <td>Silver</td>\n",
       "      <td>12</td>\n",
       "    </tr>\n",
       "    <tr>\n",
       "      <th>1</th>\n",
       "      <td>16621</td>\n",
       "      <td>CHEVROLET</td>\n",
       "      <td>Equinox</td>\n",
       "      <td>2011</td>\n",
       "      <td>Jeep</td>\n",
       "      <td>No</td>\n",
       "      <td>Petrol</td>\n",
       "      <td>3</td>\n",
       "      <td>192000 km</td>\n",
       "      <td>6.0</td>\n",
       "      <td>Tiptronic</td>\n",
       "      <td>4x4</td>\n",
       "      <td>04-May</td>\n",
       "      <td>Left wheel</td>\n",
       "      <td>Black</td>\n",
       "      <td>8</td>\n",
       "    </tr>\n",
       "    <tr>\n",
       "      <th>2</th>\n",
       "      <td>8467</td>\n",
       "      <td>HONDA</td>\n",
       "      <td>FIT</td>\n",
       "      <td>2006</td>\n",
       "      <td>Hatchback</td>\n",
       "      <td>No</td>\n",
       "      <td>Petrol</td>\n",
       "      <td>1.3</td>\n",
       "      <td>200000 km</td>\n",
       "      <td>4.0</td>\n",
       "      <td>Variator</td>\n",
       "      <td>Front</td>\n",
       "      <td>04-May</td>\n",
       "      <td>Right-hand drive</td>\n",
       "      <td>Black</td>\n",
       "      <td>2</td>\n",
       "    </tr>\n",
       "    <tr>\n",
       "      <th>3</th>\n",
       "      <td>3607</td>\n",
       "      <td>FORD</td>\n",
       "      <td>Escape</td>\n",
       "      <td>2011</td>\n",
       "      <td>Jeep</td>\n",
       "      <td>Yes</td>\n",
       "      <td>Hybrid</td>\n",
       "      <td>2.5</td>\n",
       "      <td>168966 km</td>\n",
       "      <td>4.0</td>\n",
       "      <td>Automatic</td>\n",
       "      <td>4x4</td>\n",
       "      <td>04-May</td>\n",
       "      <td>Left wheel</td>\n",
       "      <td>White</td>\n",
       "      <td>0</td>\n",
       "    </tr>\n",
       "    <tr>\n",
       "      <th>4</th>\n",
       "      <td>11726</td>\n",
       "      <td>HONDA</td>\n",
       "      <td>FIT</td>\n",
       "      <td>2014</td>\n",
       "      <td>Hatchback</td>\n",
       "      <td>Yes</td>\n",
       "      <td>Petrol</td>\n",
       "      <td>1.3</td>\n",
       "      <td>91901 km</td>\n",
       "      <td>4.0</td>\n",
       "      <td>Automatic</td>\n",
       "      <td>Front</td>\n",
       "      <td>04-May</td>\n",
       "      <td>Left wheel</td>\n",
       "      <td>Silver</td>\n",
       "      <td>4</td>\n",
       "    </tr>\n",
       "  </tbody>\n",
       "</table>\n",
       "</div>"
      ],
      "text/plain": [
       "   Price Manufacturer    Model  Prod. year   Category Leather interior  \\\n",
       "0  13328        LEXUS   RX 450        2010       Jeep              Yes   \n",
       "1  16621    CHEVROLET  Equinox        2011       Jeep               No   \n",
       "2   8467        HONDA      FIT        2006  Hatchback               No   \n",
       "3   3607         FORD   Escape        2011       Jeep              Yes   \n",
       "4  11726        HONDA      FIT        2014  Hatchback              Yes   \n",
       "\n",
       "  Fuel type Engine volume    Mileage  Cylinders Gear box type Drive wheels  \\\n",
       "0    Hybrid           3.5  186005 km        6.0     Automatic          4x4   \n",
       "1    Petrol             3  192000 km        6.0     Tiptronic          4x4   \n",
       "2    Petrol           1.3  200000 km        4.0      Variator        Front   \n",
       "3    Hybrid           2.5  168966 km        4.0     Automatic          4x4   \n",
       "4    Petrol           1.3   91901 km        4.0     Automatic        Front   \n",
       "\n",
       "    Doors             Wheel   Color  Airbags  \n",
       "0  04-May        Left wheel  Silver       12  \n",
       "1  04-May        Left wheel   Black        8  \n",
       "2  04-May  Right-hand drive   Black        2  \n",
       "3  04-May        Left wheel   White        0  \n",
       "4  04-May        Left wheel  Silver        4  "
      ]
     },
     "execution_count": 5,
     "metadata": {},
     "output_type": "execute_result"
    }
   ],
   "source": [
    "dataset.drop(dataset.columns[[0,2]], axis=1, inplace=True)\n",
    "dataset.head()"
   ]
  },
  {
   "cell_type": "code",
   "execution_count": 6,
   "id": "bd62d38a",
   "metadata": {},
   "outputs": [
    {
     "data": {
      "text/plain": [
       "Price               0\n",
       "Manufacturer        0\n",
       "Model               0\n",
       "Prod. year          0\n",
       "Category            0\n",
       "Leather interior    0\n",
       "Fuel type           0\n",
       "Engine volume       0\n",
       "Mileage             0\n",
       "Cylinders           0\n",
       "Gear box type       0\n",
       "Drive wheels        0\n",
       "Doors               0\n",
       "Wheel               0\n",
       "Color               0\n",
       "Airbags             0\n",
       "dtype: int64"
      ]
     },
     "execution_count": 6,
     "metadata": {},
     "output_type": "execute_result"
    }
   ],
   "source": [
    "dataset.isnull().sum()"
   ]
  },
  {
   "cell_type": "markdown",
   "id": "0e0a19ac",
   "metadata": {},
   "source": [
    "## Histogram of Car Price"
   ]
  },
  {
   "cell_type": "code",
   "execution_count": 34,
   "id": "f3a8fd90",
   "metadata": {},
   "outputs": [
    {
     "data": {
      "image/png": "[encoded data removed]",
      "text/plain": [
       "<Figure size 432x288 with 1 Axes>"
      ]
     },
     "metadata": {
      "needs_background": "light"
     },
     "output_type": "display_data"
    }
   ],
   "source": [
    "plt.plot(dataset['Price'])\n",
    "plt.xlabel(\"Car Price\")\n",
    "plt.ylabel(\"Frequency\")\n",
    "plt.title(\"Histogram of car price\")\n",
    "plt.show()"
   ]
  },
  {
   "cell_type": "markdown",
   "id": "83c5a297",
   "metadata": {},
   "source": [
    "## Split the dataset into independent and Dependent variables"
   ]
  },
  {
   "cell_type": "code",
   "execution_count": 7,
   "id": "42d4305a",
   "metadata": {},
   "outputs": [
    {
     "data": {
      "text/plain": [
       "Index(['Price', 'Manufacturer', 'Model', 'Prod. year', 'Category',\n",
       "       'Leather interior', 'Fuel type', 'Engine volume', 'Mileage',\n",
       "       'Cylinders', 'Gear box type', 'Drive wheels', 'Doors', 'Wheel', 'Color',\n",
       "       'Airbags'],\n",
       "      dtype='object')"
      ]
     },
     "execution_count": 7,
     "metadata": {},
     "output_type": "execute_result"
    }
   ],
   "source": [
    "dataset.columns"
   ]
  },
  {
   "cell_type": "code",
   "execution_count": 8,
   "id": "738faa28",
   "metadata": {},
   "outputs": [],
   "source": [
    "X = dataset[['Model', 'Prod. year', 'Category', 'Leather interior',\n",
    "       'Fuel type', 'Engine volume', 'Mileage', 'Cylinders', 'Gear box type',\n",
    "       'Drive wheels', 'Doors', 'Wheel', 'Color', 'Airbags']]\n",
    "y = dataset[['Price']]"
   ]
  },
  {
   "cell_type": "markdown",
   "id": "100fb14d",
   "metadata": {},
   "source": [
    "## Handling Categorical Variables"
   ]
  },
  {
   "cell_type": "code",
   "execution_count": 9,
   "id": "241f0845",
   "metadata": {},
   "outputs": [],
   "source": [
    "X = pd.get_dummies(dataset[['Model', 'Prod. year', 'Category', 'Leather interior',\n",
    "       'Fuel type', 'Engine volume', 'Mileage', 'Cylinders', 'Gear box type',\n",
    "       'Drive wheels', 'Doors', 'Wheel', 'Color', 'Airbags']],drop_first = True)"
   ]
  },
  {
   "cell_type": "code",
   "execution_count": 10,
   "id": "25658265",
   "metadata": {},
   "outputs": [
    {
     "data": {
      "text/html": [
       "<div>\n",
       "<style scoped>\n",
       "    .dataframe tbody tr th:only-of-type {\n",
       "        vertical-align: middle;\n",
       "    }\n",
       "\n",
       "    .dataframe tbody tr th {\n",
       "        vertical-align: top;\n",
       "    }\n",
       "\n",
       "    .dataframe thead th {\n",
       "        text-align: right;\n",
       "    }\n",
       "</style>\n",
       "<table border=\"1\" class=\"dataframe\">\n",
       "  <thead>\n",
       "    <tr style=\"text-align: right;\">\n",
       "      <th></th>\n",
       "      <th>Prod. year</th>\n",
       "      <th>Cylinders</th>\n",
       "      <th>Airbags</th>\n",
       "      <th>Model_100</th>\n",
       "      <th>Model_100 NX</th>\n",
       "      <th>Model_1000</th>\n",
       "      <th>Model_1111</th>\n",
       "      <th>Model_114</th>\n",
       "      <th>Model_116</th>\n",
       "      <th>Model_118</th>\n",
       "      <th>...</th>\n",
       "      <th>Color_Green</th>\n",
       "      <th>Color_Grey</th>\n",
       "      <th>Color_Orange</th>\n",
       "      <th>Color_Pink</th>\n",
       "      <th>Color_Purple</th>\n",
       "      <th>Color_Red</th>\n",
       "      <th>Color_Silver</th>\n",
       "      <th>Color_Sky blue</th>\n",
       "      <th>Color_White</th>\n",
       "      <th>Color_Yellow</th>\n",
       "    </tr>\n",
       "  </thead>\n",
       "  <tbody>\n",
       "    <tr>\n",
       "      <th>0</th>\n",
       "      <td>2010</td>\n",
       "      <td>6.0</td>\n",
       "      <td>12</td>\n",
       "      <td>0</td>\n",
       "      <td>0</td>\n",
       "      <td>0</td>\n",
       "      <td>0</td>\n",
       "      <td>0</td>\n",
       "      <td>0</td>\n",
       "      <td>0</td>\n",
       "      <td>...</td>\n",
       "      <td>0</td>\n",
       "      <td>0</td>\n",
       "      <td>0</td>\n",
       "      <td>0</td>\n",
       "      <td>0</td>\n",
       "      <td>0</td>\n",
       "      <td>1</td>\n",
       "      <td>0</td>\n",
       "      <td>0</td>\n",
       "      <td>0</td>\n",
       "    </tr>\n",
       "    <tr>\n",
       "      <th>1</th>\n",
       "      <td>2011</td>\n",
       "      <td>6.0</td>\n",
       "      <td>8</td>\n",
       "      <td>0</td>\n",
       "      <td>0</td>\n",
       "      <td>0</td>\n",
       "      <td>0</td>\n",
       "      <td>0</td>\n",
       "      <td>0</td>\n",
       "      <td>0</td>\n",
       "      <td>...</td>\n",
       "      <td>0</td>\n",
       "      <td>0</td>\n",
       "      <td>0</td>\n",
       "      <td>0</td>\n",
       "      <td>0</td>\n",
       "      <td>0</td>\n",
       "      <td>0</td>\n",
       "      <td>0</td>\n",
       "      <td>0</td>\n",
       "      <td>0</td>\n",
       "    </tr>\n",
       "    <tr>\n",
       "      <th>2</th>\n",
       "      <td>2006</td>\n",
       "      <td>4.0</td>\n",
       "      <td>2</td>\n",
       "      <td>0</td>\n",
       "      <td>0</td>\n",
       "      <td>0</td>\n",
       "      <td>0</td>\n",
       "      <td>0</td>\n",
       "      <td>0</td>\n",
       "      <td>0</td>\n",
       "      <td>...</td>\n",
       "      <td>0</td>\n",
       "      <td>0</td>\n",
       "      <td>0</td>\n",
       "      <td>0</td>\n",
       "      <td>0</td>\n",
       "      <td>0</td>\n",
       "      <td>0</td>\n",
       "      <td>0</td>\n",
       "      <td>0</td>\n",
       "      <td>0</td>\n",
       "    </tr>\n",
       "    <tr>\n",
       "      <th>3</th>\n",
       "      <td>2011</td>\n",
       "      <td>4.0</td>\n",
       "      <td>0</td>\n",
       "      <td>0</td>\n",
       "      <td>0</td>\n",
       "      <td>0</td>\n",
       "      <td>0</td>\n",
       "      <td>0</td>\n",
       "      <td>0</td>\n",
       "      <td>0</td>\n",
       "      <td>...</td>\n",
       "      <td>0</td>\n",
       "      <td>0</td>\n",
       "      <td>0</td>\n",
       "      <td>0</td>\n",
       "      <td>0</td>\n",
       "      <td>0</td>\n",
       "      <td>0</td>\n",
       "      <td>0</td>\n",
       "      <td>1</td>\n",
       "      <td>0</td>\n",
       "    </tr>\n",
       "    <tr>\n",
       "      <th>4</th>\n",
       "      <td>2014</td>\n",
       "      <td>4.0</td>\n",
       "      <td>4</td>\n",
       "      <td>0</td>\n",
       "      <td>0</td>\n",
       "      <td>0</td>\n",
       "      <td>0</td>\n",
       "      <td>0</td>\n",
       "      <td>0</td>\n",
       "      <td>0</td>\n",
       "      <td>...</td>\n",
       "      <td>0</td>\n",
       "      <td>0</td>\n",
       "      <td>0</td>\n",
       "      <td>0</td>\n",
       "      <td>0</td>\n",
       "      <td>0</td>\n",
       "      <td>1</td>\n",
       "      <td>0</td>\n",
       "      <td>0</td>\n",
       "      <td>0</td>\n",
       "    </tr>\n",
       "  </tbody>\n",
       "</table>\n",
       "<p>5 rows × 9424 columns</p>\n",
       "</div>"
      ],
      "text/plain": [
       "   Prod. year  Cylinders  Airbags  Model_100  Model_100 NX  Model_1000  \\\n",
       "0        2010        6.0       12          0             0           0   \n",
       "1        2011        6.0        8          0             0           0   \n",
       "2        2006        4.0        2          0             0           0   \n",
       "3        2011        4.0        0          0             0           0   \n",
       "4        2014        4.0        4          0             0           0   \n",
       "\n",
       "   Model_1111  Model_114  Model_116  Model_118  ...  Color_Green  Color_Grey  \\\n",
       "0           0          0          0          0  ...            0           0   \n",
       "1           0          0          0          0  ...            0           0   \n",
       "2           0          0          0          0  ...            0           0   \n",
       "3           0          0          0          0  ...            0           0   \n",
       "4           0          0          0          0  ...            0           0   \n",
       "\n",
       "   Color_Orange  Color_Pink  Color_Purple  Color_Red  Color_Silver  \\\n",
       "0             0           0             0          0             1   \n",
       "1             0           0             0          0             0   \n",
       "2             0           0             0          0             0   \n",
       "3             0           0             0          0             0   \n",
       "4             0           0             0          0             1   \n",
       "\n",
       "   Color_Sky blue  Color_White  Color_Yellow  \n",
       "0               0            0             0  \n",
       "1               0            0             0  \n",
       "2               0            0             0  \n",
       "3               0            1             0  \n",
       "4               0            0             0  \n",
       "\n",
       "[5 rows x 9424 columns]"
      ]
     },
     "execution_count": 10,
     "metadata": {},
     "output_type": "execute_result"
    }
   ],
   "source": [
    "X.head()"
   ]
  },
  {
   "cell_type": "markdown",
   "id": "0a74ea7a",
   "metadata": {},
   "source": [
    "# EXPERIMENT #1 "
   ]
  },
  {
   "cell_type": "markdown",
   "id": "8130e5ff",
   "metadata": {},
   "source": [
    "## Splitting the dataset into the Training set, Test set and validation set"
   ]
  },
  {
   "cell_type": "code",
   "execution_count": 52,
   "id": "502484d4",
   "metadata": {},
   "outputs": [],
   "source": [
    "from sklearn.model_selection import train_test_split\n",
    "X_train,X_test,y_train,y_test = train_test_split(X,y,\n",
    "                                                 test_size = 0.8, \n",
    "                                                 random_state = 42)"
   ]
  },
  {
   "cell_type": "code",
   "execution_count": 53,
   "id": "053f0a2d",
   "metadata": {},
   "outputs": [],
   "source": [
    "X_test,X_val,y_test,y_val = train_test_split(X_test,y_test,\n",
    "                                                 test_size = 0.1, \n",
    "                                                 random_state = 42)"
   ]
  },
  {
   "cell_type": "markdown",
   "id": "fed5e9ed",
   "metadata": {},
   "source": [
    "## Training the Multiple Linear Regression model on the Training set"
   ]
  },
  {
   "cell_type": "code",
   "execution_count": 54,
   "id": "5aeb3670",
   "metadata": {},
   "outputs": [
    {
     "data": {
      "text/plain": [
       "LinearRegression()"
      ]
     },
     "execution_count": 54,
     "metadata": {},
     "output_type": "execute_result"
    }
   ],
   "source": [
    "from sklearn.linear_model import LinearRegression\n",
    "regressor = LinearRegression()\n",
    "regressor.fit(X_train, y_train)"
   ]
  },
  {
   "cell_type": "markdown",
   "id": "04da16b2",
   "metadata": {},
   "source": [
    "## Intercept and Coefficient"
   ]
  },
  {
   "cell_type": "code",
   "execution_count": 45,
   "id": "43597463",
   "metadata": {},
   "outputs": [
    {
     "name": "stdout",
     "output_type": "stream",
     "text": [
      "Coefficients [[  1920.00747049   4240.7060551     542.8611541  ... -11322.56835938\n",
      "  -25416.578125    -2363.70556641]]\n",
      "Intercept [-3901025.53957726]\n"
     ]
    }
   ],
   "source": [
    "print(\"Coefficients\", regressor.coef_)\n",
    "print(\"Intercept\", regressor.intercept_)"
   ]
  },
  {
   "cell_type": "code",
   "execution_count": 46,
   "id": "c3246ce9",
   "metadata": {},
   "outputs": [
    {
     "data": {
      "text/plain": [
       "Index(['Prod. year', 'Cylinders', 'Airbags', 'Model_100', 'Model_100 NX',\n",
       "       'Model_1000', 'Model_1111', 'Model_114', 'Model_116', 'Model_118',\n",
       "       ...\n",
       "       'Color_Green', 'Color_Grey', 'Color_Orange', 'Color_Pink',\n",
       "       'Color_Purple', 'Color_Red', 'Color_Silver', 'Color_Sky blue',\n",
       "       'Color_White', 'Color_Yellow'],\n",
       "      dtype='object', length=9424)"
      ]
     },
     "execution_count": 46,
     "metadata": {},
     "output_type": "execute_result"
    }
   ],
   "source": [
    "X_train.columns"
   ]
  },
  {
   "cell_type": "markdown",
   "id": "dddf3ae2",
   "metadata": {},
   "source": [
    "## Validation set"
   ]
  },
  {
   "cell_type": "code",
   "execution_count": 47,
   "id": "deaa9c50",
   "metadata": {},
   "outputs": [],
   "source": [
    "y_predval = regressor.predict(X_val.values)"
   ]
  },
  {
   "cell_type": "code",
   "execution_count": 48,
   "id": "5118267e",
   "metadata": {},
   "outputs": [],
   "source": [
    "y_validate = y_val.to_numpy() # converting dataframe to numpy array"
   ]
  },
  {
   "cell_type": "code",
   "execution_count": 49,
   "id": "ee037c5c",
   "metadata": {},
   "outputs": [
    {
     "data": {
      "text/plain": [
       "array([[ 1.11700000e+03,  1.41100000e+03],\n",
       "       [ 3.03182000e+05,  2.77550000e+04],\n",
       "       [ 6.83000000e+02,  7.06000000e+02],\n",
       "       [ 1.01990000e+04,  7.31000000e+03],\n",
       "       [ 8.31300000e+03,  1.88000000e+02],\n",
       "       [ 2.51170000e+04,  3.00000000e+01],\n",
       "       [ 2.97940000e+04,  2.97930000e+04],\n",
       "       [ 4.80520000e+04,  1.72490000e+04],\n",
       "       [-1.46900000e+04,  4.70000000e+02],\n",
       "       [ 3.69740000e+04,  2.02970000e+04],\n",
       "       [ 2.09610000e+04,  1.00360000e+04],\n",
       "       [-1.49540000e+04,  2.76540000e+04],\n",
       "       [ 1.49520000e+04,  1.64650000e+04],\n",
       "       [ 1.50530000e+04,  1.50630000e+04],\n",
       "       [ 3.29740000e+04,  2.70650000e+04],\n",
       "       [-2.69320000e+04,  2.76540000e+04],\n",
       "       [ 2.41280000e+04,  2.60300000e+04],\n",
       "       [-1.91330000e+04,  1.72490000e+04],\n",
       "       [ 1.62000000e+02,  1.25000000e+02],\n",
       "       [ 1.00019000e+05,  3.84450000e+04],\n",
       "       [-2.70340000e+04,  7.84000000e+03],\n",
       "       [-1.41960000e+04,  1.61510000e+04],\n",
       "       [ 1.14386534e+14,  4.45330000e+04],\n",
       "       [-5.61700000e+03,  4.23400000e+03],\n",
       "       [ 4.94000000e+03,  1.30130000e+04],\n",
       "       [ 3.60480000e+04,  3.60650000e+04],\n",
       "       [ 2.48510000e+04,  1.88260000e+04],\n",
       "       [-5.42120000e+04,  1.47400000e+04],\n",
       "       [ 4.97170000e+04,  4.97510000e+04],\n",
       "       [ 7.53480000e+04,  3.60650000e+04],\n",
       "       [ 2.29020000e+04,  2.28940000e+04],\n",
       "       [ 2.35760000e+04,  2.35210000e+04],\n",
       "       [ 6.01908152e+14,  3.05800000e+03],\n",
       "       [ 8.72000000e+02,  1.47400000e+04],\n",
       "       [ 5.73100000e+04,  1.34850000e+04],\n",
       "       [ 2.93265000e+05,  3.03510000e+04],\n",
       "       [ 6.36620000e+04,  1.34850000e+04],\n",
       "       [ 2.53000000e+02,  2.20000000e+02],\n",
       "       [ 1.52110000e+04,  2.18930000e+04],\n",
       "       [ 1.10171600e+06,  9.40800000e+03],\n",
       "       [ 6.03000000e+02,  6.27000000e+02],\n",
       "       [-1.49308751e+14,  1.81890000e+04],\n",
       "       [ 4.22900000e+03,  4.23400000e+03],\n",
       "       [ 2.21540000e+04,  1.66210000e+04],\n",
       "       [ 4.00470000e+04,  3.76330000e+04],\n",
       "       [ 5.46400000e+03,  4.70400000e+03],\n",
       "       [ 3.81620000e+04,  8.62000000e+02],\n",
       "       [ 1.00660000e+04,  8.46700000e+03],\n",
       "       [-1.54450000e+04,  3.92000000e+02],\n",
       "       [ 2.27860000e+04,  1.41130000e+04],\n",
       "       [ 1.87730000e+04,  1.99300000e+04],\n",
       "       [-3.19260000e+04,  1.56810000e+04],\n",
       "       [-6.91610000e+04,  1.28580000e+04],\n",
       "       [ 2.06200000e+04,  3.57520000e+04],\n",
       "       [ 2.93980000e+04,  1.05060000e+04],\n",
       "       [-2.49240000e+04,  1.00360000e+04],\n",
       "       [ 2.53000000e+02,  2.20000000e+02],\n",
       "       [ 6.64400000e+03,  6.42900000e+03],\n",
       "       [ 2.92605000e+05,  3.66360000e+04],\n",
       "       [ 5.49050000e+04,  5.17460000e+04],\n",
       "       [ 3.68890000e+04,  3.68990000e+04],\n",
       "       [ 3.97900000e+03,  3.76300000e+03],\n",
       "       [ 1.00560000e+04,  7.21300000e+03],\n",
       "       [-1.16010000e+04,  3.00000000e+01],\n",
       "       [ 2.61940000e+04,  1.40500000e+04],\n",
       "       [ 1.39370000e+04,  1.33280000e+04],\n",
       "       [-3.09720000e+04,  2.90100000e+03],\n",
       "       [ 1.37300000e+03,  1.12900000e+04],\n",
       "       [ 3.68590000e+04,  1.81890000e+04],\n",
       "       [-3.47230000e+04,  1.66210000e+04],\n",
       "       [-1.32800000e+03,  9.41000000e+02],\n",
       "       [-2.52690000e+04,  1.28580000e+04],\n",
       "       [-1.55010813e+14,  1.72490000e+04],\n",
       "       [ 9.62000000e+02,  9.41000000e+02],\n",
       "       [ 4.96500000e+03,  1.17600000e+03],\n",
       "       [ 4.19462544e+14,  7.99700000e+03],\n",
       "       [ 1.15000000e+02,  1.68940000e+04],\n",
       "       [ 3.96000000e+02,  3.92000000e+02],\n",
       "       [ 3.60300000e+03,  3.60700000e+03],\n",
       "       [ 1.86240000e+04,  4.70400000e+03],\n",
       "       [ 1.43104411e+14,  1.91300000e+04],\n",
       "       [ 3.53000000e+02,  1.01900000e+03],\n",
       "       [ 2.54300000e+03,  2.50900000e+03],\n",
       "       [-8.75100000e+03,  1.41130000e+04],\n",
       "       [-2.32670000e+04,  3.76330000e+04],\n",
       "       [-5.78400000e+03,  6.27000000e+02],\n",
       "       [ 5.20300000e+03,  6.24700000e+03],\n",
       "       [ 5.86450000e+04,  1.31716000e+05],\n",
       "       [ 1.21650000e+04,  4.46110000e+04],\n",
       "       [ 5.12000000e+02,  4.70000000e+02],\n",
       "       [-3.49680000e+04,  1.94440000e+04],\n",
       "       [ 1.86480000e+04,  1.86690000e+04],\n",
       "       [-1.08480000e+04,  1.12590000e+04],\n",
       "       [ 2.64650000e+04,  2.41480000e+04],\n",
       "       [ 3.12200000e+04,  1.22310000e+04],\n",
       "       [ 2.33530000e+04,  4.21710000e+04],\n",
       "       [ 7.11580000e+04,  5.01800000e+03],\n",
       "       [ 8.90600000e+03,  1.53670000e+04],\n",
       "       [ 1.56470000e+04,  1.56810000e+04],\n",
       "       [ 3.44270000e+04,  1.67780000e+04],\n",
       "       [-2.48363778e+15,  1.12900000e+04],\n",
       "       [ 3.35720000e+04,  2.03850000e+04],\n",
       "       [ 3.62820000e+04,  3.92010000e+04],\n",
       "       [ 2.83070000e+04,  6.74830000e+04],\n",
       "       [-1.53020000e+04,  5.64500000e+03],\n",
       "       [ 3.62370000e+04,  3.92260000e+04],\n",
       "       [ 1.99750000e+04,  9.50000000e+02],\n",
       "       [ 1.19110000e+04,  3.52690000e+04],\n",
       "       [-5.12520000e+04,  9.09500000e+03],\n",
       "       [-3.89500000e+03,  1.21000000e+04],\n",
       "       [ 9.20000000e+01,  4.70000000e+01],\n",
       "       [-2.41980000e+04,  8.46700000e+03],\n",
       "       [-5.47000000e+02,  1.50530000e+04],\n",
       "       [ 7.70000000e+03,  4.07700000e+03],\n",
       "       [-1.71180000e+04,  1.27010000e+04],\n",
       "       [ 7.93800000e+03,  8.62000000e+02],\n",
       "       [ 1.10370000e+04,  2.00050000e+04],\n",
       "       [-9.74700000e+03,  1.09760000e+04],\n",
       "       [ 3.13294000e+05,  3.82290000e+04],\n",
       "       [ 3.59000000e+03,  1.25000000e+02],\n",
       "       [ 2.17830000e+04,  2.18050000e+04],\n",
       "       [ 2.48110000e+04,  4.29330000e+04],\n",
       "       [-1.79935899e+14,  5.33100000e+03],\n",
       "       [-1.16010000e+04,  3.00000000e+01],\n",
       "       [ 4.80920000e+04,  4.81080000e+04],\n",
       "       [ 2.30090000e+04,  9.40800000e+03],\n",
       "       [ 3.15600000e+04,  3.15810000e+04],\n",
       "       [ 2.97900000e+03,  6.27200000e+03],\n",
       "       [ 2.07910000e+04,  3.50000000e+03],\n",
       "       [-3.40960000e+04,  3.50000000e+04],\n",
       "       [ 3.99000000e+02,  3.92000000e+02],\n",
       "       [-4.90315125e+14,  7.84000000e+03],\n",
       "       [ 5.01300000e+03,  5.01800000e+03],\n",
       "       [-1.44000000e+03,  2.71900000e+04],\n",
       "       [-9.21700000e+03,  3.92000000e+02],\n",
       "       [ 3.97090000e+04,  1.56810000e+04],\n",
       "       [ 2.43940000e+04,  2.97110000e+04],\n",
       "       [ 1.42500000e+04,  2.77550000e+04],\n",
       "       [ 1.22030000e+04,  1.44260000e+04],\n",
       "       [-2.66860000e+04,  2.03850000e+04],\n",
       "       [ 6.58100000e+03,  1.12900000e+04],\n",
       "       [-6.07200000e+03,  6.58600000e+03],\n",
       "       [ 1.86120000e+04,  1.22310000e+04],\n",
       "       [ 2.53000000e+02,  2.20000000e+02],\n",
       "       [ 3.62820000e+04,  3.98290000e+04],\n",
       "       [ 3.90300000e+04,  1.72490000e+04],\n",
       "       [-8.99000000e+03,  8.78100000e+03],\n",
       "       [ 2.18000000e+02,  2.20000000e+02],\n",
       "       [ 4.55500000e+03,  3.13600000e+03],\n",
       "       [-3.96790000e+04,  6.50000000e+03],\n",
       "       [ 2.34400000e+04,  1.34850000e+04],\n",
       "       [ 1.31700000e+04,  1.38770000e+04],\n",
       "       [-2.99680000e+04,  2.00710000e+04],\n",
       "       [ 3.93720000e+04,  3.59710000e+04],\n",
       "       [ 1.11700000e+03,  1.41100000e+03],\n",
       "       [-5.34976741e+14,  1.47400000e+04],\n",
       "       [ 3.23663636e+14,  4.39050000e+04],\n",
       "       [ 3.15160000e+04,  4.67280000e+04],\n",
       "       [ 3.70290000e+04,  2.71740000e+04],\n",
       "       [ 9.92844334e+13,  4.54730000e+04],\n",
       "       [ 1.53302790e+15,  1.50000000e+02],\n",
       "       [-3.15710000e+04,  6.00000000e+01],\n",
       "       [ 4.58940000e+04,  1.25440000e+04],\n",
       "       [ 1.53972000e+05,  4.39100000e+03],\n",
       "       [ 5.93000000e+02,  6.27000000e+02],\n",
       "       [-2.01440000e+04,  1.66210000e+04],\n",
       "       [ 4.45200000e+04,  4.45420000e+04],\n",
       "       [ 2.26640000e+04,  3.94580000e+04],\n",
       "       [-7.14000000e+02,  1.25000000e+02],\n",
       "       [ 9.22000000e+03,  9.25200000e+03],\n",
       "       [-9.18100000e+03,  8.31100000e+03],\n",
       "       [ 1.94890000e+04,  3.13600000e+03],\n",
       "       [ 1.66510000e+04,  3.23020000e+04],\n",
       "       [ 7.02000000e+02,  7.06000000e+02],\n",
       "       [-5.38500000e+03,  1.53670000e+04],\n",
       "       [ 1.15720000e+04,  1.16040000e+04],\n",
       "       [ 1.23640000e+04,  1.89830000e+04],\n",
       "       [ 5.62610000e+04,  6.18160000e+04],\n",
       "       [ 4.41000000e+02,  3.13600000e+03],\n",
       "       [ 7.16600000e+03,  1.03490000e+04],\n",
       "       [ 3.31160000e+04,  1.72490000e+04],\n",
       "       [-3.58980000e+04,  5.33100000e+03],\n",
       "       [-8.73741476e+13,  1.53670000e+04],\n",
       "       [ 5.47000000e+02,  5.49000000e+02],\n",
       "       [-8.27300000e+03,  1.47400000e+04],\n",
       "       [ 6.07660000e+04,  1.72490000e+04],\n",
       "       [ 9.29740000e+04,  6.89900000e+03],\n",
       "       [ 3.74300000e+04,  5.49000000e+02],\n",
       "       [-8.25400000e+03,  3.14000000e+02],\n",
       "       [ 2.81860000e+04,  1.28580000e+04],\n",
       "       [ 2.49750000e+04,  3.48110000e+04],\n",
       "       [ 6.94000000e+02,  7.06000000e+02],\n",
       "       [ 2.26200000e+03,  2.27400000e+03],\n",
       "       [ 9.50700000e+03,  3.26150000e+04],\n",
       "       [ 1.95000000e+02,  1.88000000e+02],\n",
       "       [ 2.73790000e+04,  6.27000000e+02],\n",
       "       [ 4.16300000e+03,  1.00000000e+02],\n",
       "       [-8.51300000e+03,  5.95900000e+03],\n",
       "       [ 5.52500000e+03,  1.03000000e+04],\n",
       "       [ 9.94000000e+02,  2.35200000e+03],\n",
       "       [ 2.55010000e+04,  1.22310000e+04],\n",
       "       [ 2.21680000e+04,  1.53670000e+04],\n",
       "       [ 7.71500000e+03,  4.86100000e+03],\n",
       "       [ 5.62000000e+02,  1.49000000e+03],\n",
       "       [ 1.63330000e+04,  2.50890000e+04],\n",
       "       [ 2.94400000e+03,  1.28580000e+04],\n",
       "       [-1.90190000e+04,  1.71580000e+04],\n",
       "       [ 5.43410000e+04,  3.49800000e+04],\n",
       "       [ 3.44700000e+03,  3.45000000e+03],\n",
       "       [ 3.35000000e+02,  2.82000000e+02],\n",
       "       [ 3.38930000e+04,  5.49000000e+02],\n",
       "       [ 2.60390000e+04,  6.89900000e+03],\n",
       "       [ 4.74320000e+04,  1.60000000e+04],\n",
       "       [ 2.16190000e+04,  1.85030000e+04],\n",
       "       [-4.24130000e+04,  1.31720000e+04],\n",
       "       [-1.18100000e+03,  1.44260000e+04],\n",
       "       [-1.34390000e+04,  2.22660000e+04],\n",
       "       [-8.22700000e+03,  7.05600000e+03],\n",
       "       [ 2.61740000e+04,  8.00000000e+01],\n",
       "       [ 1.64420000e+04,  2.66570000e+04],\n",
       "       [ 3.14900000e+04,  1.09760000e+04],\n",
       "       [ 5.43000000e+02,  5.49000000e+02],\n",
       "       [ 1.56850000e+04,  4.70000000e+02],\n",
       "       [ 9.71700000e+03,  9.72200000e+03],\n",
       "       [ 2.05800000e+04,  1.17600000e+04],\n",
       "       [ 4.92700000e+03,  1.63080000e+04],\n",
       "       [ 8.13370000e+04,  2.82250000e+04],\n",
       "       [-2.84910000e+04,  1.72490000e+04],\n",
       "       [ 1.38950000e+04,  1.22310000e+04],\n",
       "       [ 9.42000000e+02,  1.01900000e+03],\n",
       "       [ 2.39510000e+04,  1.88170000e+04],\n",
       "       [ 3.61200000e+04,  3.61370000e+04],\n",
       "       [-1.77100000e+03,  3.14000000e+02],\n",
       "       [ 1.45000000e+02,  1.57000000e+02],\n",
       "       [ 1.79940000e+04,  1.52100000e+04],\n",
       "       [ 1.03360000e+04,  1.03490000e+04],\n",
       "       [ 7.47500000e+03,  6.14710000e+04],\n",
       "       [ 1.18950000e+04,  3.20000000e+03],\n",
       "       [-4.81500000e+03,  5.01780000e+04],\n",
       "       [-1.24800000e+03,  6.41710000e+04],\n",
       "       [ 8.16240000e+04,  5.00000000e+03],\n",
       "       [ 4.48470000e+04,  4.10550000e+04],\n",
       "       [ 2.12820000e+04,  4.78100000e+04],\n",
       "       [-3.71100000e+03,  5.62000000e+03],\n",
       "       [ 7.83300000e+03,  7.21300000e+03],\n",
       "       [-1.21440000e+04,  8.46700000e+03],\n",
       "       [ 2.07640000e+04,  2.05000000e+04],\n",
       "       [ 5.29280000e+04,  1.37990000e+04],\n",
       "       [ 2.22760000e+04,  5.49000000e+02],\n",
       "       [ 1.86480000e+04,  3.70060000e+04],\n",
       "       [ 1.14198716e+14,  1.19170000e+04],\n",
       "       [ 1.90890000e+04,  1.72500000e+03],\n",
       "       [ 2.46070000e+04,  2.46280000e+04],\n",
       "       [ 6.12800000e+03,  1.55240000e+04],\n",
       "       [ 4.60000000e+02,  4.70000000e+02],\n",
       "       [ 2.86390000e+04,  6.27200000e+03],\n",
       "       [ 8.63700000e+03,  5.05260000e+04],\n",
       "       [ 4.90100000e+03,  8.15400000e+03],\n",
       "       [ 5.50100000e+03,  5.00000000e+01],\n",
       "       [ 3.32780000e+04,  1.85030000e+04],\n",
       "       [-2.35550000e+04,  2.72590000e+04],\n",
       "       [ 1.73000000e+02,  1.88000000e+02],\n",
       "       [ 4.37290000e+04,  1.00000000e+02],\n",
       "       [ 1.93960000e+04,  1.94160000e+04],\n",
       "       [-2.13230000e+04,  2.41480000e+04],\n",
       "       [-4.92040000e+04,  5.64500000e+03],\n",
       "       [-3.47000768e+14,  2.03850000e+04],\n",
       "       [-1.63480000e+04,  7.21300000e+03],\n",
       "       [ 1.47746689e+14,  7.21300000e+03],\n",
       "       [ 2.95030000e+04,  2.94790000e+04],\n",
       "       [ 1.19110000e+04,  4.56330000e+04],\n",
       "       [ 9.29000000e+02,  9.41000000e+02],\n",
       "       [ 5.00710000e+04,  2.35210000e+04],\n",
       "       [-2.80430000e+04,  5.64500000e+03],\n",
       "       [ 6.09800000e+04,  2.88520000e+04],\n",
       "       [ 5.82620000e+04,  1.97570000e+04],\n",
       "       [ 7.57000000e+02,  1.69000000e+04],\n",
       "       [ 2.29520000e+04,  2.51000000e+02],\n",
       "       [-2.15990000e+04,  8.94700000e+03],\n",
       "       [ 4.33800000e+04,  9.40800000e+03],\n",
       "       [ 4.80590000e+04,  1.98830000e+04],\n",
       "       [ 7.35230000e+04,  2.20000000e+03],\n",
       "       [ 7.73500000e+03,  8.78100000e+03],\n",
       "       [-8.51700000e+03,  6.74300000e+03],\n",
       "       [ 7.63237640e+13,  2.91660000e+04],\n",
       "       [-8.14109032e+14,  1.72490000e+04],\n",
       "       [-7.42180000e+04,  7.52700000e+03],\n",
       "       [ 6.34320000e+04,  2.66570000e+04],\n",
       "       [ 3.61260000e+04,  5.95900000e+03],\n",
       "       [ 7.34650000e+04,  1.00360000e+04],\n",
       "       [ 3.30300000e+03,  3.29300000e+03],\n",
       "       [ 9.11000000e+03,  2.03800000e+03],\n",
       "       [ 4.08750000e+04,  4.54730000e+04],\n",
       "       [-3.15240000e+04,  2.13260000e+04],\n",
       "       [ 6.63780000e+04,  1.25440000e+04],\n",
       "       [ 4.49640000e+04,  4.27640000e+04],\n",
       "       [ 5.08400000e+03,  3.92000000e+02],\n",
       "       [-9.27300000e+03,  1.41130000e+04],\n",
       "       [ 2.64540000e+04,  9.40800000e+03],\n",
       "       [-1.23140000e+04,  1.88200000e+03],\n",
       "       [ 2.11920000e+04,  3.89750000e+04],\n",
       "       [-1.04910000e+04,  1.91300000e+04],\n",
       "       [ 4.88600000e+03,  8.15400000e+03],\n",
       "       [-5.57700000e+03,  1.41130000e+04],\n",
       "       [-1.65393256e+13,  2.11700000e+03],\n",
       "       [ 6.98300000e+03,  1.09320000e+04],\n",
       "       [ 1.78560000e+04,  3.51680000e+04],\n",
       "       [ 1.47590000e+04,  6.89900000e+03],\n",
       "       [ 4.76570000e+04,  4.76690000e+04],\n",
       "       [ 4.11000000e+02,  2.54020000e+04],\n",
       "       [ 1.26900000e+04,  1.27010000e+04],\n",
       "       [ 3.58100000e+03,  2.43000000e+03],\n",
       "       [-3.15430000e+04,  8.15400000e+03],\n",
       "       [ 5.07910000e+04,  1.03490000e+04],\n",
       "       [ 7.26200000e+03,  6.27000000e+02],\n",
       "       [ 5.00360000e+04,  1.19170000e+04],\n",
       "       [-2.31900000e+03,  5.95900000e+03],\n",
       "       [ 1.67200000e+04,  1.16040000e+04],\n",
       "       [ 3.28400000e+04,  3.98290000e+04],\n",
       "       [ 1.81620000e+04,  1.59940000e+04],\n",
       "       [ 2.86910000e+04,  3.50460000e+04],\n",
       "       [ 5.07490000e+04,  2.50000000e+04],\n",
       "       [ 1.00030000e+04,  1.00360000e+04],\n",
       "       [ 2.65880000e+04,  9.56500000e+03],\n",
       "       [-4.07700000e+04,  1.66210000e+04],\n",
       "       [ 3.10120000e+04,  1.81890000e+04],\n",
       "       [ 1.25840000e+04,  1.20000000e+02],\n",
       "       [-2.89190000e+04,  1.80300000e+03],\n",
       "       [ 5.41720000e+04,  2.19530000e+04],\n",
       "       [ 4.59200000e+03,  3.15000000e+03],\n",
       "       [ 3.41354000e+05,  3.92260000e+04],\n",
       "       [ 1.56450000e+04,  1.56810000e+04],\n",
       "       [-4.80500000e+03,  1.64600000e+03],\n",
       "       [ 6.94155401e+13,  2.22660000e+04],\n",
       "       [-2.48620000e+04,  2.35210000e+04],\n",
       "       [-9.21700000e+03,  3.92000000e+02],\n",
       "       [ 7.69900000e+04,  2.85390000e+04],\n",
       "       [ 1.65830000e+04,  6.89900000e+03],\n",
       "       [-2.73840000e+04,  1.25440000e+04],\n",
       "       [-2.23600000e+04,  6.27200000e+03],\n",
       "       [-2.80788451e+14,  1.56810000e+04],\n",
       "       [ 3.16300000e+03,  1.69350000e+04],\n",
       "       [ 2.24500000e+03,  7.52700000e+03],\n",
       "       [ 5.77900000e+03,  1.22310000e+04],\n",
       "       [ 5.79520000e+04,  3.19880000e+04],\n",
       "       [ 4.05520000e+04,  3.76330000e+04],\n",
       "       [ 1.24220000e+04,  1.23880000e+04],\n",
       "       [ 6.41720000e+04,  4.76690000e+04],\n",
       "       [ 1.66500000e+04,  1.66210000e+04],\n",
       "       [ 1.32590000e+04,  7.84000000e+03],\n",
       "       [ 3.30550000e+04,  9.40800000e+03],\n",
       "       [ 9.20790000e+04,  4.70100000e+03],\n",
       "       [-5.31900000e+03,  5.17500000e+03],\n",
       "       [-1.40960000e+04,  6.89900000e+03],\n",
       "       [ 6.30570000e+04,  1.41130000e+04],\n",
       "       [ 9.99100000e+03,  2.17900000e+04],\n",
       "       [-1.46040000e+04,  2.35210000e+04],\n",
       "       [ 5.00130000e+04,  3.29290000e+04],\n",
       "       [ 6.63000000e+02,  6.27000000e+02],\n",
       "       [ 2.12030000e+04,  2.22660000e+04],\n",
       "       [-2.70600000e+03,  1.86790000e+04],\n",
       "       [-6.28000000e+02,  3.04200000e+04],\n",
       "       [-2.90870000e+04,  6.27000000e+02],\n",
       "       [ 9.09500000e+03,  1.00360000e+04],\n",
       "       [-1.52680000e+04,  1.25440000e+04],\n",
       "       [-1.06710000e+04,  2.76540000e+04],\n",
       "       [ 1.00040000e+04,  1.00360000e+04],\n",
       "       [-3.77011245e+13,  1.66210000e+04],\n",
       "       [-3.16000000e+03,  9.25200000e+03],\n",
       "       [ 1.93790000e+04,  2.52740000e+04],\n",
       "       [-1.13040000e+04,  1.19170000e+04],\n",
       "       [ 3.17230000e+04,  3.16750000e+04],\n",
       "       [ 1.74000000e+02,  1.11330000e+04],\n",
       "       [ 3.43880000e+04,  2.91660000e+04],\n",
       "       [ 1.14170000e+04,  1.25440000e+04],\n",
       "       [ 1.05500000e+03,  1.01900000e+03],\n",
       "       [ 9.70600000e+03,  9.72200000e+03],\n",
       "       [-2.89000000e+02,  2.43270000e+04],\n",
       "       [ 1.88020000e+04,  1.88170000e+04],\n",
       "       [ 1.25650000e+04,  1.25850000e+04],\n",
       "       [-1.09600000e+04,  2.34140000e+04],\n",
       "       [ 1.73470000e+04,  1.85030000e+04],\n",
       "       [ 4.09012253e+14,  1.64800000e+04],\n",
       "       [ 4.62390000e+04,  4.62510000e+04],\n",
       "       [-7.39500000e+03,  1.41130000e+04]])"
      ]
     },
     "execution_count": 49,
     "metadata": {},
     "output_type": "execute_result"
    }
   ],
   "source": [
    "np.hstack((y_predval, y_validate)).round()"
   ]
  },
  {
   "cell_type": "markdown",
   "id": "5dc1d001",
   "metadata": {},
   "source": [
    "## Predicting the Test set results"
   ]
  },
  {
   "cell_type": "code",
   "execution_count": 50,
   "id": "b436544a",
   "metadata": {},
   "outputs": [],
   "source": [
    "y_pred = regressor.predict(X_test.values)"
   ]
  },
  {
   "cell_type": "markdown",
   "id": "844507ca",
   "metadata": {},
   "source": [
    "## RMSE and R Square"
   ]
  },
  {
   "cell_type": "code",
   "execution_count": 51,
   "id": "c78e2fee",
   "metadata": {},
   "outputs": [
    {
     "name": "stdout",
     "output_type": "stream",
     "text": [
      "r-square: -118653124498392268800.00\n",
      "MSE:  38120753276016029633112702976.00\n",
      "RMSE:  195245366849039.53\n"
     ]
    }
   ],
   "source": [
    "from sklearn.metrics import mean_squared_error, r2_score\n",
    "import math\n",
    "print(f\"r-square: {r2_score(y_test, y_pred): 0.2f}\")\n",
    "print(f\"MSE: {mean_squared_error(y_test, y_pred): 0.2f}\")\n",
    "print(f\"RMSE: {math.sqrt(mean_squared_error(y_test, y_pred)): 0.2f}\")"
   ]
  },
  {
   "cell_type": "markdown",
   "id": "aa7c91f7",
   "metadata": {},
   "source": [
    "# EXPERIMENT #2 "
   ]
  },
  {
   "cell_type": "markdown",
   "id": "85fadb15",
   "metadata": {},
   "source": [
    "## Splitting the dataset into the Training set, Test set and validation set"
   ]
  },
  {
   "cell_type": "code",
   "execution_count": 30,
   "id": "3d01df44",
   "metadata": {},
   "outputs": [],
   "source": [
    "from sklearn.model_selection import train_test_split\n",
    "X_train,X_test,y_train,y_test = train_test_split(X,y,\n",
    "                                                 test_size = 0.7, \n",
    "                                                 random_state = 42)"
   ]
  },
  {
   "cell_type": "code",
   "execution_count": 31,
   "id": "fe67ab75",
   "metadata": {},
   "outputs": [],
   "source": [
    "X_test,X_val,y_test,y_val = train_test_split(X_test,y_test,\n",
    "                                                 test_size = 0.15, \n",
    "                                                 random_state = 42)"
   ]
  },
  {
   "cell_type": "markdown",
   "id": "fee780e6",
   "metadata": {},
   "source": [
    "## Training the Multiple Linear Regression model on the Training set"
   ]
  },
  {
   "cell_type": "code",
   "execution_count": 32,
   "id": "edfc8f85",
   "metadata": {},
   "outputs": [
    {
     "data": {
      "text/plain": [
       "LinearRegression()"
      ]
     },
     "execution_count": 32,
     "metadata": {},
     "output_type": "execute_result"
    }
   ],
   "source": [
    "from sklearn.linear_model import LinearRegression\n",
    "regressor = LinearRegression()\n",
    "regressor.fit(X_train, y_train)"
   ]
  },
  {
   "cell_type": "markdown",
   "id": "b9c86f81",
   "metadata": {},
   "source": [
    "## Intercept and Coefficient"
   ]
  },
  {
   "cell_type": "code",
   "execution_count": 35,
   "id": "75d5f37d",
   "metadata": {},
   "outputs": [
    {
     "name": "stdout",
     "output_type": "stream",
     "text": [
      "Coefficients [[ 1014.31807425    83.16756681   -26.61547461 ... -7604.36328125\n",
      "  -3734.3125     -5056.68579102]]\n",
      "Intercept [2.34697314e+12]\n"
     ]
    }
   ],
   "source": [
    "print(\"Coefficients\", regressor.coef_)\n",
    "print(\"Intercept\", regressor.intercept_)"
   ]
  },
  {
   "cell_type": "code",
   "execution_count": 36,
   "id": "7389e727",
   "metadata": {},
   "outputs": [
    {
     "data": {
      "text/plain": [
       "Index(['Prod. year', 'Cylinders', 'Airbags', 'Model_100', 'Model_100 NX',\n",
       "       'Model_1000', 'Model_1111', 'Model_114', 'Model_116', 'Model_118',\n",
       "       ...\n",
       "       'Color_Green', 'Color_Grey', 'Color_Orange', 'Color_Pink',\n",
       "       'Color_Purple', 'Color_Red', 'Color_Silver', 'Color_Sky blue',\n",
       "       'Color_White', 'Color_Yellow'],\n",
       "      dtype='object', length=9424)"
      ]
     },
     "execution_count": 36,
     "metadata": {},
     "output_type": "execute_result"
    }
   ],
   "source": [
    "X_train.columns"
   ]
  },
  {
   "cell_type": "markdown",
   "id": "2005602e",
   "metadata": {},
   "source": [
    "## Validation set"
   ]
  },
  {
   "cell_type": "code",
   "execution_count": 37,
   "id": "36538ee6",
   "metadata": {},
   "outputs": [],
   "source": [
    "y_predval = regressor.predict(X_val.values)"
   ]
  },
  {
   "cell_type": "code",
   "execution_count": 38,
   "id": "65e32221",
   "metadata": {},
   "outputs": [],
   "source": [
    "y_validate = y_val.to_numpy() # converting dataframe to numpy array"
   ]
  },
  {
   "cell_type": "code",
   "execution_count": 39,
   "id": "340372e5",
   "metadata": {},
   "outputs": [
    {
     "data": {
      "text/plain": [
       "array([[1.49000000e+02, 2.82000000e+02],\n",
       "       [4.96000000e+02, 3.92000000e+02],\n",
       "       [7.86660000e+04, 4.86100000e+04],\n",
       "       ...,\n",
       "       [9.50729114e+10, 5.64500000e+03],\n",
       "       [1.05130000e+04, 3.45000000e+03],\n",
       "       [2.65520000e+04, 1.56810000e+04]])"
      ]
     },
     "execution_count": 39,
     "metadata": {},
     "output_type": "execute_result"
    }
   ],
   "source": [
    "np.hstack((y_predval, y_validate)).round()"
   ]
  },
  {
   "cell_type": "markdown",
   "id": "ee442549",
   "metadata": {},
   "source": [
    "## Predicting the Test set results"
   ]
  },
  {
   "cell_type": "code",
   "execution_count": 40,
   "id": "1d562fb4",
   "metadata": {},
   "outputs": [],
   "source": [
    "y_pred = regressor.predict(X_test.values)"
   ]
  },
  {
   "cell_type": "markdown",
   "id": "74686776",
   "metadata": {},
   "source": [
    "## RMSE and R Square"
   ]
  },
  {
   "cell_type": "code",
   "execution_count": 41,
   "id": "d7eaac5f",
   "metadata": {},
   "outputs": [
    {
     "name": "stdout",
     "output_type": "stream",
     "text": [
      "r-square: -5734582635791783.00\n",
      "MSE:  348711870764657908314537984.00\n",
      "RMSE:  18673828497784.21\n"
     ]
    }
   ],
   "source": [
    "from sklearn.metrics import mean_squared_error, r2_score\n",
    "import math\n",
    "print(f\"r-square: {r2_score(y_test, y_pred): 0.2f}\")\n",
    "print(f\"MSE: {mean_squared_error(y_test, y_pred): 0.2f}\")\n",
    "print(f\"RMSE: {math.sqrt(mean_squared_error(y_test, y_pred)): 0.2f}\")"
   ]
  }
 ],
 "metadata": {
  "kernelspec": {
   "display_name": "Python 3 (ipykernel)",
   "language": "python",
   "name": "python3"
  },
  "language_info": {
   "codemirror_mode": {
    "name": "ipython",
    "version": 3
   },
   "file_extension": ".py",
   "mimetype": "text/x-python",
   "name": "python",
   "nbconvert_exporter": "python",
   "pygments_lexer": "ipython3",
   "version": "3.9.7"
  }
 },
 "nbformat": 4,
 "nbformat_minor": 5
}
